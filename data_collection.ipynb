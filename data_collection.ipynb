{
 "cells": [
  {
   "cell_type": "code",
   "execution_count": 27,
   "metadata": {},
   "outputs": [],
   "source": [
    "import requests, re\n",
    "from bs4 import BeautifulSoup as soup\n",
    "from typing import NamedTuple\n",
    "movies = []\n",
    "class Movie(NamedTuple):\n",
    "    name:str\n",
    "    year:int\n",
    "    imdb_rating:str\n",
    "        \n",
    "start = soup(requests.get('https://reelgood.com/source/hbo_max').text, 'html.parser')\n",
    "links = [f\"https://reelgood.com{i['href']}\" for i in start.find_all('a') if re.findall('^/movie/', i['href'])]\n",
    "new_results = [soup(requests.get(i).text, 'html.parser') for i in links]\n",
    "for x in range(len(new_results)):\n",
    "    if x % 2 == 0:\n",
    "        movie_temp = new_results[x].find(\"h1\")\n",
    "        movie_name = movie_temp.text\n",
    "        IMDB_temp = new_results[x].find(\"span\",\"css-xmin1q ey4ir3j3\")\n",
    "        movie_IMDB = IMDB_temp.text\n",
    "        year_temp = new_results[x].find(\"a\",\"css-10wrqt0\",href=re.compile(r\"year\"))\n",
    "        movie_year = year_temp.text\n",
    "        movies.append([movie_name, movie_year, movie_IMDB])\n",
    "    else:\n",
    "        continue"
   ]
  },
  {
   "cell_type": "code",
   "execution_count": 28,
   "metadata": {},
   "outputs": [
    {
     "data": {
      "text/plain": [
       "[['Se7en', '1995', '8.6'],\n",
       " ['Spirited Away', '2003', '8.6'],\n",
       " ['Seven Samurai', '1954', '8.6'],\n",
       " [\"Howl's Moving Castle\", '2004', '8.2'],\n",
       " ['My Neighbor Totoro', '1988', '8.2'],\n",
       " ['Modern Times', '1936', '8.5'],\n",
       " ['City Lights', '1931', '8.5'],\n",
       " ['Dog Day Afternoon', '1975', '8'],\n",
       " ['Rashomon', '1950', '8.2'],\n",
       " ['The Seventh Seal', '1957', '8.2'],\n",
       " ['Castle in the Sky', '1986', '8'],\n",
       " ['Bicycle Thieves', '1948', '8.3'],\n",
       " ['The Maltese Falcon', '1941', '8'],\n",
       " ['Three Colors: Red', '1994', '8.1'],\n",
       " ['Persona', '1966', '8.1'],\n",
       " ['Solaris', '1972', '8.1'],\n",
       " ['Diabolique', '1955', '8'],\n",
       " ['Yojimbo', '1961', '8.2'],\n",
       " ['The Dark Knight', '2008', '9'],\n",
       " [\"All the President's Men\", '1976', '7.9'],\n",
       " ['Ikiru', '1952', '8.3'],\n",
       " ['Justice League: The Flashpoint Paradox', '2013', '8.1'],\n",
       " ['A Nightmare on Elm Street', '1984', '7.5'],\n",
       " ['Three Colors: Blue', '1993', '7.9'],\n",
       " ['Wild Strawberries', '1957', '8.2'],\n",
       " ['Batman: Under the Red Hood', '2010', '8.1'],\n",
       " ['Fanny and Alexander', '1982', '8.1'],\n",
       " ['Ponyo', '2008', '7.7'],\n",
       " ['A Streetcar Named Desire', '1951', '8'],\n",
       " ['The Wages of Fear', '1953', '8.1'],\n",
       " ['Superman', '1978', '7.3'],\n",
       " ['The Philadelphia Story', '1940', '7.9'],\n",
       " ['King Kong', '1933', '7.9'],\n",
       " ['Rio Bravo', '1959', '8'],\n",
       " ['The Battle of Algiers', '1966', '8.1'],\n",
       " ['Pulp Fiction', '1994', '8.9']]"
      ]
     },
     "execution_count": 28,
     "metadata": {},
     "output_type": "execute_result"
    }
   ],
   "source": [
    "movies"
   ]
  },
  {
   "cell_type": "code",
   "execution_count": 30,
   "metadata": {},
   "outputs": [],
   "source": [
    "import mysql.connector\n",
    "\n",
    "mydb = mysql.connector.connect(\n",
    "  host=\"sql-project.cxtlpugkoxht.us-east-1.rds.amazonaws.com\",\n",
    "  user=\"admin\",\n",
    "  password=\"SQL_2021\",\n",
    "  database=\"sql-project\"\n",
    ")\n",
    "\n",
    "\n",
    "mycursor = mydb.cursor()\n",
    "\n",
    "sql = \"INSERT INTO movies (movieName, movieYear, IMDBrating) VALUES (%s,%s,%s)\"\n",
    "\n",
    "mycursor.executemany(sql,movies)\n",
    "mydb.commit()"
   ]
  }
 ],
 "metadata": {
  "kernelspec": {
   "display_name": "Python 3",
   "language": "python",
   "name": "python3"
  },
  "language_info": {
   "codemirror_mode": {
    "name": "ipython",
    "version": 3
   },
   "file_extension": ".py",
   "mimetype": "text/x-python",
   "name": "python",
   "nbconvert_exporter": "python",
   "pygments_lexer": "ipython3",
   "version": "3.8.5"
  }
 },
 "nbformat": 4,
 "nbformat_minor": 4
}
